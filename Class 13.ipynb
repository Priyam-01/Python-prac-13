{
 "cells": [
  {
   "cell_type": "code",
   "execution_count": 1,
   "id": "b4704d34",
   "metadata": {},
   "outputs": [
    {
     "name": "stdout",
     "output_type": "stream",
     "text": [
      "sachin\n",
      "tendulkar\n",
      "ramesh\n"
     ]
    }
   ],
   "source": [
    "def test(fname, mname, lname):\n",
    "    print(fname)\n",
    "    print(mname)\n",
    "    print(lname)\n",
    "    \n",
    "test(\"sachin\", lname =\"ramesh\", mname = \"tendulkar\")"
   ]
  },
  {
   "cell_type": "code",
   "execution_count": 2,
   "id": "cdb6799b",
   "metadata": {},
   "outputs": [
    {
     "ename": "SyntaxError",
     "evalue": "positional argument follows keyword argument (2725467977.py, line 6)",
     "output_type": "error",
     "traceback": [
      "\u001b[1;36m  Cell \u001b[1;32mIn[2], line 6\u001b[1;36m\u001b[0m\n\u001b[1;33m    test(mname = \"sachin\", lname = \"ramesh\", \"tendulkar\")\u001b[0m\n\u001b[1;37m                                                        ^\u001b[0m\n\u001b[1;31mSyntaxError\u001b[0m\u001b[1;31m:\u001b[0m positional argument follows keyword argument\n"
     ]
    }
   ],
   "source": [
    "def test(fname, mname, lname):\n",
    "    print(fname)\n",
    "    print(mname)\n",
    "    print(lname)\n",
    "    \n",
    "test(mname = \"sachin\", lname = \"ramesh\", \"tendulkar\")"
   ]
  },
  {
   "cell_type": "code",
   "execution_count": 3,
   "id": "762de966",
   "metadata": {},
   "outputs": [
    {
     "ename": "TypeError",
     "evalue": "test() missing 2 required positional arguments: 'mname' and 'lname'",
     "output_type": "error",
     "traceback": [
      "\u001b[1;31m---------------------------------------------------------------------------\u001b[0m",
      "\u001b[1;31mTypeError\u001b[0m                                 Traceback (most recent call last)",
      "Cell \u001b[1;32mIn[3], line 6\u001b[0m\n\u001b[0;32m      3\u001b[0m     \u001b[38;5;28mprint\u001b[39m(mname)\n\u001b[0;32m      4\u001b[0m     \u001b[38;5;28mprint\u001b[39m(lname)\n\u001b[1;32m----> 6\u001b[0m test(\u001b[38;5;124m\"\u001b[39m\u001b[38;5;124msachin\u001b[39m\u001b[38;5;124m\"\u001b[39m)\n",
      "\u001b[1;31mTypeError\u001b[0m: test() missing 2 required positional arguments: 'mname' and 'lname'"
     ]
    }
   ],
   "source": [
    "def test(fname, mname, lname):\n",
    "    print(fname)\n",
    "    print(mname)\n",
    "    print(lname)\n",
    "    \n",
    "test(\"sachin\")"
   ]
  },
  {
   "cell_type": "code",
   "execution_count": 4,
   "id": "a2ad6042",
   "metadata": {},
   "outputs": [
    {
     "ename": "SyntaxError",
     "evalue": "non-default argument follows default argument (4191735402.py, line 1)",
     "output_type": "error",
     "traceback": [
      "\u001b[1;36m  Cell \u001b[1;32mIn[4], line 1\u001b[1;36m\u001b[0m\n\u001b[1;33m    def test(fname = None, mname = None, lname):\u001b[0m\n\u001b[1;37m                                         ^\u001b[0m\n\u001b[1;31mSyntaxError\u001b[0m\u001b[1;31m:\u001b[0m non-default argument follows default argument\n"
     ]
    }
   ],
   "source": [
    "def test(fname = None, mname = None, lname):\n",
    "    print(fname)\n",
    "    print(mname)\n",
    "    print(lname)\n",
    "    \n",
    "test(lname =  \"sachin\")"
   ]
  },
  {
   "cell_type": "code",
   "execution_count": 5,
   "id": "e340abe7",
   "metadata": {},
   "outputs": [
    {
     "name": "stdout",
     "output_type": "stream",
     "text": [
      "Sachin\n",
      "None\n",
      "None\n"
     ]
    }
   ],
   "source": [
    "def test(fname, mname = None, lname = None):\n",
    "    print(fname)\n",
    "    print(mname)\n",
    "    print(lname)\n",
    "    \n",
    "test(\"Sachin\")"
   ]
  },
  {
   "cell_type": "code",
   "execution_count": 6,
   "id": "60af3b5d",
   "metadata": {},
   "outputs": [
    {
     "name": "stdout",
     "output_type": "stream",
     "text": [
      "('Hi', 'Hello', 1, 2, 3, 4)\n",
      "<class 'tuple'>\n",
      "Hi\n",
      "Hello\n"
     ]
    }
   ],
   "source": [
    "def test(*args):\n",
    "    print(args)\n",
    "    print(type(args))\n",
    "    print(args[0])\n",
    "    print(args[1])\n",
    "    \n",
    "test(\"Hi\", \"Hello\", 1, 2, 3, 4)"
   ]
  },
  {
   "cell_type": "code",
   "execution_count": 7,
   "id": "162cebd2",
   "metadata": {},
   "outputs": [
    {
     "name": "stdout",
     "output_type": "stream",
     "text": [
      "{'name': 'Hello', 'Lname': 'Python', 'session': 'demo'}\n",
      "<class 'dict'>\n"
     ]
    }
   ],
   "source": [
    "def test(**kwargs):\n",
    "    print(kwargs)\n",
    "    print(type(kwargs))\n",
    "    \n",
    "test(name = \"Hello\", Lname = \"Python\", session=\"demo\")"
   ]
  },
  {
   "cell_type": "code",
   "execution_count": 8,
   "id": "a8ba25ce",
   "metadata": {},
   "outputs": [],
   "source": [
    "def test(*args, **kwargs):\n",
    "    print(args)\n",
    "    print((kwargs))"
   ]
  },
  {
   "cell_type": "code",
   "execution_count": 9,
   "id": "9948b3cb",
   "metadata": {},
   "outputs": [
    {
     "name": "stdout",
     "output_type": "stream",
     "text": [
      "('Hi', 'Hello', 1, 2, 3, 4)\n",
      "{'name': 'Hello', 'Lname': 'Python', 'session': 'demo'}\n"
     ]
    }
   ],
   "source": [
    "test(\"Hi\", \"Hello\", 1, 2, 3, 4, name = \"Hello\", Lname = \"Python\", session=\"demo\")"
   ]
  },
  {
   "cell_type": "markdown",
   "id": "b96cbe55",
   "metadata": {},
   "source": [
    "# Prime number"
   ]
  },
  {
   "cell_type": "code",
   "execution_count": 11,
   "id": "445c69fb",
   "metadata": {},
   "outputs": [
    {
     "name": "stdout",
     "output_type": "stream",
     "text": [
      "1 is not a prime number\n",
      "2 is a prime number\n",
      "3 is a prime number\n",
      "4 is not a prime number\n",
      "5 is a prime number\n",
      "6 is not a prime number\n",
      "7 is a prime number\n",
      "8 is not a prime number\n",
      "9 is not a prime number\n",
      "10 is not a prime number\n",
      "11 is a prime number\n",
      "12 is not a prime number\n",
      "13 is a prime number\n",
      "14 is not a prime number\n",
      "15 is not a prime number\n",
      "16 is not a prime number\n",
      "17 is a prime number\n",
      "18 is not a prime number\n",
      "19 is a prime number\n"
     ]
    }
   ],
   "source": [
    "def is_prime(n):\n",
    "    if n <= 1:\n",
    "        return False\n",
    "    if n == 2:\n",
    "        return True\n",
    "    if n % 2 == 0:\n",
    "        return False\n",
    "    sqrt_n = int(n ** 0.5) + 1\n",
    "    for i in range(3, sqrt_n, 2):\n",
    "        if n % i == 0:\n",
    "            return False\n",
    "    return True\n",
    "\n",
    "# Test the function\n",
    "for num in range(1, 20):\n",
    "    if is_prime(num):\n",
    "        print(num, \"is a prime number\")\n",
    "    else:\n",
    "        print(num, \"is not a prime number\")"
   ]
  },
  {
   "cell_type": "code",
   "execution_count": 1,
   "id": "6b5643cd",
   "metadata": {},
   "outputs": [],
   "source": [
    "# #Assignment\n",
    "# a = \"sachintendulkar123\"\n",
    "# get_details(a, mode)\n",
    "# mode = \"aplha\" , \"digit\""
   ]
  },
  {
   "cell_type": "code",
   "execution_count": 15,
   "id": "a09aa7ed",
   "metadata": {},
   "outputs": [
    {
     "ename": "UnboundLocalError",
     "evalue": "cannot access local variable 'numbers_mode' where it is not associated with a value",
     "output_type": "error",
     "traceback": [
      "\u001b[1;31m---------------------------------------------------------------------------\u001b[0m",
      "\u001b[1;31mUnboundLocalError\u001b[0m                         Traceback (most recent call last)",
      "Cell \u001b[1;32mIn[15], line 21\u001b[0m\n\u001b[0;32m     16\u001b[0m             \u001b[38;5;28mprint\u001b[39m(\u001b[38;5;124m\"\u001b[39m\u001b[38;5;124mIt is alpha\u001b[39m\u001b[38;5;124m\"\u001b[39m)\n\u001b[0;32m     18\u001b[0m \u001b[38;5;66;03m# print(string_mode)\u001b[39;00m\n\u001b[0;32m     19\u001b[0m \u001b[38;5;66;03m# print(numbers_mode)\u001b[39;00m\n\u001b[1;32m---> 21\u001b[0m get_details(string_mode, \u001b[38;5;124m\"\u001b[39m\u001b[38;5;124malpha\u001b[39m\u001b[38;5;124m\"\u001b[39m)\n",
      "Cell \u001b[1;32mIn[15], line 10\u001b[0m, in \u001b[0;36mget_details\u001b[1;34m(a, mode)\u001b[0m\n\u001b[0;32m      8\u001b[0m     string_mode \u001b[38;5;241m+\u001b[39m\u001b[38;5;241m=\u001b[39mi\n\u001b[0;32m      9\u001b[0m \u001b[38;5;28;01mif\u001b[39;00m mode\u001b[38;5;241m.\u001b[39misalpha():\n\u001b[1;32m---> 10\u001b[0m     numbers_mode \u001b[38;5;241m+\u001b[39m\u001b[38;5;241m=\u001b[39mi\n\u001b[0;32m     12\u001b[0m \u001b[38;5;28;01mfor\u001b[39;00m i \u001b[38;5;129;01min\u001b[39;00m a:\n\u001b[0;32m     13\u001b[0m     \u001b[38;5;28;01mif\u001b[39;00m string_mode\u001b[38;5;241m.\u001b[39misdigit():\n",
      "\u001b[1;31mUnboundLocalError\u001b[0m: cannot access local variable 'numbers_mode' where it is not associated with a value"
     ]
    }
   ],
   "source": [
    "a = \"sachintendulkar123\"\n",
    "\n",
    "string_mode = \"\"\n",
    "numbers_mode = \"\"\n",
    "\n",
    "def get_details(a, mode):\n",
    "    if mode.isdigit():\n",
    "        string_mode +=i\n",
    "    if mode.isalpha():\n",
    "        numbers_mode +=i\n",
    "        \n",
    "    for i in a:\n",
    "        if string_mode.isdigit():\n",
    "            print(\"It is numbers\")\n",
    "        if numbers_mode.isalpha():\n",
    "            print(\"It is alpha\")\n",
    "                    \n",
    "# print(string_mode)\n",
    "# print(numbers_mode)\n",
    "\n",
    "get_details(string_mode, \"alpha\")"
   ]
  },
  {
   "cell_type": "code",
   "execution_count": 18,
   "id": "d80de937",
   "metadata": {},
   "outputs": [
    {
     "name": "stdout",
     "output_type": "stream",
     "text": [
      "123\n",
      "sachintendulkar\n"
     ]
    }
   ],
   "source": [
    "a = \"sachintendulkar123\"\n",
    "string = \"\"\n",
    "number = \"\"\n",
    "for i in a:\n",
    "#     print(i)\n",
    "    \n",
    "    if i.isdigit():\n",
    "        string += i\n",
    "    if i.isalpha():\n",
    "        number += i\n",
    "print(string)\n",
    "print(number)"
   ]
  },
  {
   "cell_type": "code",
   "execution_count": 41,
   "id": "fe79129c",
   "metadata": {},
   "outputs": [
    {
     "name": "stdout",
     "output_type": "stream",
     "text": [
      "sachintendulkar\n"
     ]
    }
   ],
   "source": [
    "a = \"sachintendulkar123\"\n",
    "\n",
    "def get_detail(a, mode):\n",
    "    string_mode = \"\"\n",
    "    number_mode = \"\"\n",
    "    for i in a:\n",
    "        if i.isdigit():\n",
    "            number_mode += i\n",
    "        if i.isalpha():\n",
    "            string_mode += i\n",
    "            \n",
    "    if mode== \"alpha\":\n",
    "        print(string_mode)\n",
    "        return\n",
    "    elif mode == \"number\":\n",
    "        print(number_mode)\n",
    "        return\n",
    "    else:\n",
    "        print(\"Please enter either alpha or number as mode\")\n",
    "            \n",
    "        \n",
    "#     print(string_mode)\n",
    "#     print(number_mode)\n",
    "                \n",
    "get_detail(a, \"alpha\")\n",
    "    "
   ]
  },
  {
   "cell_type": "code",
   "execution_count": 42,
   "id": "71b38fa7",
   "metadata": {},
   "outputs": [],
   "source": [
    "# [\"apple\" , \"apple\" , \"mango\" , \"lemon\"]\n",
    "\n",
    "# unique = [\"apple\",\"mango\",\"lemon\" ]\n",
    "\n",
    "# duplicate = [\"apple\"]\n",
    "\n",
    "# count = {\"apple\" :  2 , \"mango\" : 1 , \"lemon\" : 1}"
   ]
  },
  {
   "cell_type": "code",
   "execution_count": 43,
   "id": "713a5ae9",
   "metadata": {},
   "outputs": [
    {
     "name": "stdout",
     "output_type": "stream",
     "text": [
      "['apple', 'mango', 'lemon']\n",
      "['apple']\n"
     ]
    }
   ],
   "source": [
    "a = [\"apple\" , \"apple\" , \"mango\" , \"lemon\"]\n",
    "\n",
    "unique_list = []\n",
    "dup_list = []\n",
    "\n",
    "for i in a:\n",
    "    if i in unique_list:\n",
    "        dup_list.append(i)\n",
    "    else:\n",
    "        unique_list.append(i)\n",
    "        \n",
    "print(unique_list)\n",
    "print(dup_list)\n",
    "\n"
   ]
  },
  {
   "cell_type": "code",
   "execution_count": 48,
   "id": "a1c00079",
   "metadata": {},
   "outputs": [
    {
     "name": "stdout",
     "output_type": "stream",
     "text": [
      "{'apple': 2, 'mango': 1, 'lemon': 1}\n"
     ]
    }
   ],
   "source": [
    "a = [\"apple\" , \"apple\" , \"mango\" , \"lemon\"]\n",
    "count = {}\n",
    "for i in a:\n",
    "    count[i] = count.get(i,0) +1\n",
    "print(count)\n",
    "    \n",
    "    "
   ]
  },
  {
   "cell_type": "code",
   "execution_count": 71,
   "id": "ef6f6333",
   "metadata": {},
   "outputs": [
    {
     "name": "stdout",
     "output_type": "stream",
     "text": [
      "['apple']\n"
     ]
    }
   ],
   "source": [
    "a = [\"apple\" , \"apple\" , \"mango\" , \"lemon\"]\n",
    "\n",
    "def get_fruit_detail(a, mode):\n",
    "    unique_list = []\n",
    "    duplicate_list = []\n",
    "    \n",
    "    for i in a:\n",
    "        if i in unique_list:\n",
    "            duplicate_list.append(i)\n",
    "        else:\n",
    "            unique_list.append(i)\n",
    "            \n",
    "    if mode == \"unique_list\" or mode == \"Unique List\":\n",
    "        print(unique_list)\n",
    "    elif mode == \"duplicate_list\" or mode ==\"Duplicate List\":\n",
    "        print(duplicate_list)\n",
    "    else:\n",
    "        print(\"Invaild argument, Enter Unique List or Duplicate list\")\n",
    "        \n",
    "get_fruit_detail(a, \"Duplicate List\")\n",
    "        "
   ]
  },
  {
   "cell_type": "code",
   "execution_count": 95,
   "id": "38dbcd21",
   "metadata": {},
   "outputs": [
    {
     "name": "stdout",
     "output_type": "stream",
     "text": [
      "Invalid argument. Enter 'Unique List' 'count' or 'Duplicate List'.\n"
     ]
    }
   ],
   "source": [
    "a = [\"apple\", \"apple\", \"mango\", \"lemon\"]\n",
    "\n",
    "def get_fruit_detail(a, mode):\n",
    "    unique_list = []\n",
    "    duplicate_list = []\n",
    "    count = {}\n",
    "    \n",
    "    for i in a:\n",
    "        if i in unique_list:\n",
    "            duplicate_list.append(i)\n",
    "        else:\n",
    "            unique_list.append(i)\n",
    "    \n",
    "    for i in a:\n",
    "        if i in count:\n",
    "            count[i] +=1\n",
    "        else:\n",
    "            count[i] = 1\n",
    "            \n",
    "            \n",
    "    if mode.lower() == \"unique list\":\n",
    "        print(unique_list)\n",
    "    elif mode.lower() == \"duplicate list\":\n",
    "        print(duplicate_list)\n",
    "    elif mode.lower() == \"count\":\n",
    "        print(count)\n",
    "    else:\n",
    "        print(\"Invalid argument. Enter 'Unique List' 'count' or 'Duplicate List'.\")\n",
    "get_fruit_detail(a, \"counts\")\n"
   ]
  },
  {
   "cell_type": "code",
   "execution_count": 92,
   "id": "090018f1",
   "metadata": {},
   "outputs": [
    {
     "name": "stdout",
     "output_type": "stream",
     "text": [
      "Enter the elements: ghy jkl ghy\n",
      "Invalid argument. Enter 'Unique List' or 'Duplicate List'.\n"
     ]
    }
   ],
   "source": [
    "#Via Input function\n",
    "\n",
    "a = input(\"Enter the elements: \").split()\n",
    "\n",
    "def get_fruit_detail(a, mode):\n",
    "    unique_list = []\n",
    "    duplicate_list = []\n",
    "    count = {}\n",
    "    \n",
    "    #Dup and unique list\n",
    "    \n",
    "    for i in a:\n",
    "        if i in unique_list:\n",
    "            duplicate_list.append(i)\n",
    "        else:\n",
    "            unique_list.append(i)\n",
    "    \n",
    "    # count list\n",
    "    for i in a:\n",
    "        if i in count:\n",
    "            count[i] +=1\n",
    "        else:\n",
    "            count[i] = 1\n",
    "    \n",
    "    #Mode        \n",
    "            \n",
    "    if mode.lower() == \"unique list\":\n",
    "        print(unique_list)\n",
    "    elif mode.lower() == \"duplicate list\":\n",
    "        print(duplicate_list)\n",
    "    elif mode.lower() == \"count\":\n",
    "        print(count)\n",
    "    else:\n",
    "        print(\"Invalid argument. Enter 'Unique List' or 'Duplicate List'.\")\n",
    "get_fruit_detail(a, \"counts\")\n"
   ]
  },
  {
   "cell_type": "code",
   "execution_count": null,
   "id": "7611fd82",
   "metadata": {},
   "outputs": [],
   "source": []
  }
 ],
 "metadata": {
  "kernelspec": {
   "display_name": "Python 3 (ipykernel)",
   "language": "python",
   "name": "python3"
  },
  "language_info": {
   "codemirror_mode": {
    "name": "ipython",
    "version": 3
   },
   "file_extension": ".py",
   "mimetype": "text/x-python",
   "name": "python",
   "nbconvert_exporter": "python",
   "pygments_lexer": "ipython3",
   "version": "3.11.5"
  }
 },
 "nbformat": 4,
 "nbformat_minor": 5
}
